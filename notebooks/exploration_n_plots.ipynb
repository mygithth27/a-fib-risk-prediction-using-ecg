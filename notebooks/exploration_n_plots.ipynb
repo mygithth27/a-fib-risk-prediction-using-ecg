{
 "cells": [
  {
   "cell_type": "code",
   "execution_count": 1,
   "id": "147cd688",
   "metadata": {},
   "outputs": [],
   "source": [
    "import numpy as np\n",
    "import pandas as pd\n",
    "import matplotlib.pyplot as plt\n",
    "\n",
    "%matplotlib inline"
   ]
  },
  {
   "cell_type": "code",
   "execution_count": 2,
   "id": "4d5cbdda",
   "metadata": {},
   "outputs": [],
   "source": [
    "path_to_csv = \"~/ecg_af/out/exams_info.csv\"\n",
    "ids_col = \"id_exam\"\n",
    "class_col = \"exam_class\"\n",
    "age_col = \"age\""
   ]
  },
  {
   "cell_type": "code",
   "execution_count": 3,
   "id": "4d286dc5",
   "metadata": {},
   "outputs": [
    {
     "data": {
      "text/html": [
       "<div>\n",
       "<style scoped>\n",
       "    .dataframe tbody tr th:only-of-type {\n",
       "        vertical-align: middle;\n",
       "    }\n",
       "\n",
       "    .dataframe tbody tr th {\n",
       "        vertical-align: top;\n",
       "    }\n",
       "\n",
       "    .dataframe thead th {\n",
       "        text-align: right;\n",
       "    }\n",
       "</style>\n",
       "<table border=\"1\" class=\"dataframe\">\n",
       "  <thead>\n",
       "    <tr style=\"text-align: right;\">\n",
       "      <th></th>\n",
       "      <th>Unnamed: 0</th>\n",
       "      <th>id_patient</th>\n",
       "      <th>age</th>\n",
       "      <th>sex</th>\n",
       "      <th>1dAVb</th>\n",
       "      <th>RBBB</th>\n",
       "      <th>LBBB</th>\n",
       "      <th>SB</th>\n",
       "      <th>AF</th>\n",
       "      <th>ST</th>\n",
       "      <th>date_exam</th>\n",
       "      <th>group_exam</th>\n",
       "      <th>exam_class</th>\n",
       "      <th>time_to_first_appearance</th>\n",
       "      <th>time_to_last_exam</th>\n",
       "      <th>split</th>\n",
       "    </tr>\n",
       "    <tr>\n",
       "      <th>id_exam</th>\n",
       "      <th></th>\n",
       "      <th></th>\n",
       "      <th></th>\n",
       "      <th></th>\n",
       "      <th></th>\n",
       "      <th></th>\n",
       "      <th></th>\n",
       "      <th></th>\n",
       "      <th></th>\n",
       "      <th></th>\n",
       "      <th></th>\n",
       "      <th></th>\n",
       "      <th></th>\n",
       "      <th></th>\n",
       "      <th></th>\n",
       "      <th></th>\n",
       "    </tr>\n",
       "  </thead>\n",
       "  <tbody>\n",
       "    <tr>\n",
       "      <th>2111789</th>\n",
       "      <td>1776613</td>\n",
       "      <td>1372330</td>\n",
       "      <td>55</td>\n",
       "      <td>M</td>\n",
       "      <td>0</td>\n",
       "      <td>0</td>\n",
       "      <td>0</td>\n",
       "      <td>0</td>\n",
       "      <td>0</td>\n",
       "      <td>0</td>\n",
       "      <td>2017-06-02</td>\n",
       "      <td>1</td>\n",
       "      <td>0</td>\n",
       "      <td>0</td>\n",
       "      <td>0</td>\n",
       "      <td>none</td>\n",
       "    </tr>\n",
       "    <tr>\n",
       "      <th>2111102</th>\n",
       "      <td>1776403</td>\n",
       "      <td>1580011</td>\n",
       "      <td>57</td>\n",
       "      <td>M</td>\n",
       "      <td>0</td>\n",
       "      <td>0</td>\n",
       "      <td>0</td>\n",
       "      <td>0</td>\n",
       "      <td>0</td>\n",
       "      <td>0</td>\n",
       "      <td>2017-06-02</td>\n",
       "      <td>1</td>\n",
       "      <td>0</td>\n",
       "      <td>0</td>\n",
       "      <td>0</td>\n",
       "      <td>none</td>\n",
       "    </tr>\n",
       "    <tr>\n",
       "      <th>2111069</th>\n",
       "      <td>1776395</td>\n",
       "      <td>819200</td>\n",
       "      <td>82</td>\n",
       "      <td>F</td>\n",
       "      <td>0</td>\n",
       "      <td>0</td>\n",
       "      <td>0</td>\n",
       "      <td>0</td>\n",
       "      <td>1</td>\n",
       "      <td>0</td>\n",
       "      <td>2017-06-02</td>\n",
       "      <td>2</td>\n",
       "      <td>2</td>\n",
       "      <td>0</td>\n",
       "      <td>0</td>\n",
       "      <td>train</td>\n",
       "    </tr>\n",
       "    <tr>\n",
       "      <th>2111070</th>\n",
       "      <td>1776396</td>\n",
       "      <td>158514</td>\n",
       "      <td>52</td>\n",
       "      <td>F</td>\n",
       "      <td>0</td>\n",
       "      <td>0</td>\n",
       "      <td>0</td>\n",
       "      <td>0</td>\n",
       "      <td>0</td>\n",
       "      <td>0</td>\n",
       "      <td>2017-06-02</td>\n",
       "      <td>1</td>\n",
       "      <td>0</td>\n",
       "      <td>0</td>\n",
       "      <td>0</td>\n",
       "      <td>none</td>\n",
       "    </tr>\n",
       "    <tr>\n",
       "      <th>2111074</th>\n",
       "      <td>1776397</td>\n",
       "      <td>652452</td>\n",
       "      <td>38</td>\n",
       "      <td>M</td>\n",
       "      <td>0</td>\n",
       "      <td>0</td>\n",
       "      <td>0</td>\n",
       "      <td>0</td>\n",
       "      <td>0</td>\n",
       "      <td>0</td>\n",
       "      <td>2017-06-02</td>\n",
       "      <td>1</td>\n",
       "      <td>0</td>\n",
       "      <td>0</td>\n",
       "      <td>0</td>\n",
       "      <td>none</td>\n",
       "    </tr>\n",
       "  </tbody>\n",
       "</table>\n",
       "</div>"
      ],
      "text/plain": [
       "         Unnamed: 0  id_patient  age sex  1dAVb  RBBB  LBBB  SB  AF  ST  \\\n",
       "id_exam                                                                   \n",
       "2111789     1776613     1372330   55   M      0     0     0   0   0   0   \n",
       "2111102     1776403     1580011   57   M      0     0     0   0   0   0   \n",
       "2111069     1776395      819200   82   F      0     0     0   0   1   0   \n",
       "2111070     1776396      158514   52   F      0     0     0   0   0   0   \n",
       "2111074     1776397      652452   38   M      0     0     0   0   0   0   \n",
       "\n",
       "          date_exam  group_exam  exam_class  time_to_first_appearance  \\\n",
       "id_exam                                                                 \n",
       "2111789  2017-06-02           1           0                         0   \n",
       "2111102  2017-06-02           1           0                         0   \n",
       "2111069  2017-06-02           2           2                         0   \n",
       "2111070  2017-06-02           1           0                         0   \n",
       "2111074  2017-06-02           1           0                         0   \n",
       "\n",
       "         time_to_last_exam  split  \n",
       "id_exam                            \n",
       "2111789                  0   none  \n",
       "2111102                  0   none  \n",
       "2111069                  0  train  \n",
       "2111070                  0   none  \n",
       "2111074                  0   none  "
      ]
     },
     "execution_count": 3,
     "metadata": {},
     "output_type": "execute_result"
    }
   ],
   "source": [
    "# Get csv data\n",
    "df = pd.read_csv(path_to_csv, index_col=ids_col)\n",
    "df.head()"
   ]
  },
  {
   "cell_type": "code",
   "execution_count": 4,
   "id": "e23e64d4",
   "metadata": {},
   "outputs": [],
   "source": [
    "visits_df = pd.DataFrame(df['id_patient'])"
   ]
  },
  {
   "cell_type": "code",
   "execution_count": 5,
   "id": "7473fead",
   "metadata": {},
   "outputs": [
    {
     "data": {
      "text/html": [
       "<div>\n",
       "<style scoped>\n",
       "    .dataframe tbody tr th:only-of-type {\n",
       "        vertical-align: middle;\n",
       "    }\n",
       "\n",
       "    .dataframe tbody tr th {\n",
       "        vertical-align: top;\n",
       "    }\n",
       "\n",
       "    .dataframe thead th {\n",
       "        text-align: right;\n",
       "    }\n",
       "</style>\n",
       "<table border=\"1\" class=\"dataframe\">\n",
       "  <thead>\n",
       "    <tr style=\"text-align: right;\">\n",
       "      <th></th>\n",
       "      <th>id_patient</th>\n",
       "    </tr>\n",
       "    <tr>\n",
       "      <th>id_exam</th>\n",
       "      <th></th>\n",
       "    </tr>\n",
       "  </thead>\n",
       "  <tbody>\n",
       "    <tr>\n",
       "      <th>2111789</th>\n",
       "      <td>1372330</td>\n",
       "    </tr>\n",
       "    <tr>\n",
       "      <th>2111102</th>\n",
       "      <td>1580011</td>\n",
       "    </tr>\n",
       "    <tr>\n",
       "      <th>2111069</th>\n",
       "      <td>819200</td>\n",
       "    </tr>\n",
       "    <tr>\n",
       "      <th>2111070</th>\n",
       "      <td>158514</td>\n",
       "    </tr>\n",
       "    <tr>\n",
       "      <th>2111074</th>\n",
       "      <td>652452</td>\n",
       "    </tr>\n",
       "  </tbody>\n",
       "</table>\n",
       "</div>"
      ],
      "text/plain": [
       "         id_patient\n",
       "id_exam            \n",
       "2111789     1372330\n",
       "2111102     1580011\n",
       "2111069      819200\n",
       "2111070      158514\n",
       "2111074      652452"
      ]
     },
     "execution_count": 5,
     "metadata": {},
     "output_type": "execute_result"
    }
   ],
   "source": [
    "visits_df.head()"
   ]
  },
  {
   "cell_type": "markdown",
   "id": "04c94b2d",
   "metadata": {},
   "source": [
    "df.groupby('PatientId').size().value_counts().reset_index().rename(columns={'index':'Aid',0:'Pid'})"
   ]
  },
  {
   "cell_type": "code",
   "execution_count": 6,
   "id": "994cdb50",
   "metadata": {},
   "outputs": [],
   "source": [
    "visits_count = visits_df.groupby(['id_patient'], sort=False).size().reset_index().rename(columns={0:'counts'})"
   ]
  },
  {
   "cell_type": "code",
   "execution_count": 7,
   "id": "ac62c070",
   "metadata": {},
   "outputs": [
    {
     "data": {
      "text/html": [
       "<div>\n",
       "<style scoped>\n",
       "    .dataframe tbody tr th:only-of-type {\n",
       "        vertical-align: middle;\n",
       "    }\n",
       "\n",
       "    .dataframe tbody tr th {\n",
       "        vertical-align: top;\n",
       "    }\n",
       "\n",
       "    .dataframe thead th {\n",
       "        text-align: right;\n",
       "    }\n",
       "</style>\n",
       "<table border=\"1\" class=\"dataframe\">\n",
       "  <thead>\n",
       "    <tr style=\"text-align: right;\">\n",
       "      <th></th>\n",
       "      <th>id_patient</th>\n",
       "      <th>counts</th>\n",
       "    </tr>\n",
       "  </thead>\n",
       "  <tbody>\n",
       "    <tr>\n",
       "      <th>0</th>\n",
       "      <td>1372330</td>\n",
       "      <td>2</td>\n",
       "    </tr>\n",
       "    <tr>\n",
       "      <th>1</th>\n",
       "      <td>1580011</td>\n",
       "      <td>2</td>\n",
       "    </tr>\n",
       "    <tr>\n",
       "      <th>2</th>\n",
       "      <td>819200</td>\n",
       "      <td>3</td>\n",
       "    </tr>\n",
       "    <tr>\n",
       "      <th>3</th>\n",
       "      <td>158514</td>\n",
       "      <td>8</td>\n",
       "    </tr>\n",
       "    <tr>\n",
       "      <th>4</th>\n",
       "      <td>652452</td>\n",
       "      <td>2</td>\n",
       "    </tr>\n",
       "  </tbody>\n",
       "</table>\n",
       "</div>"
      ],
      "text/plain": [
       "   id_patient  counts\n",
       "0     1372330       2\n",
       "1     1580011       2\n",
       "2      819200       3\n",
       "3      158514       8\n",
       "4      652452       2"
      ]
     },
     "execution_count": 7,
     "metadata": {},
     "output_type": "execute_result"
    }
   ],
   "source": [
    "visits_count.head()"
   ]
  },
  {
   "cell_type": "code",
   "execution_count": 8,
   "id": "83b424cf",
   "metadata": {},
   "outputs": [
    {
     "data": {
      "text/plain": [
       "<function matplotlib.pyplot.show(close=None, block=None)>"
      ]
     },
     "execution_count": 8,
     "metadata": {},
     "output_type": "execute_result"
    },
    {
     "data": {
      "image/png": "[encoded data removed]",
      "text/plain": [
       "<Figure size 518.4x331.2 with 1 Axes>"
      ]
     },
     "metadata": {
      "needs_background": "light"
     },
     "output_type": "display_data"
    }
   ],
   "source": [
    "# Plotting the number of visits per patients\n",
    "\n",
    "ax = visits_count['counts'].plot.hist(bins=np.logspace(0, 2, 12), figsize=(7.2, 4.6))\n",
    "ax.set(xscale='log',)\n",
    "ax.set(xticks=[1, 2, 4, 6, 8, 10, 100])\n",
    "ax.set_xticklabels(['1', '2', '4', '6', '8', '10', '100'])\n",
    "ax.set_title(\"Histogram plot of visits counts\", fontsize = 16)\n",
    "ax.set_xlabel('Number of visits per patent', fontsize = 15)\n",
    "ax.set_ylabel('Frequency', fontsize = 15)\n",
    "#plt.savefig('visits_counts.png')\n",
    "plt.show"
   ]
  },
  {
   "cell_type": "code",
   "execution_count": 9,
   "id": "3194a9b1",
   "metadata": {},
   "outputs": [],
   "source": [
    "#visits_count['counts'].value_counts()"
   ]
  },
  {
   "cell_type": "code",
   "execution_count": 10,
   "id": "ca1ac9cd",
   "metadata": {},
   "outputs": [],
   "source": [
    "patients_ages = pd.DataFrame(df[age_col])"
   ]
  },
  {
   "cell_type": "code",
   "execution_count": 11,
   "id": "5bda19cb",
   "metadata": {},
   "outputs": [
    {
     "data": {
      "text/plain": [
       "<function matplotlib.pyplot.show(close=None, block=None)>"
      ]
     },
     "execution_count": 11,
     "metadata": {},
     "output_type": "execute_result"
    },
    {
     "data": {
      "image/png": "[encoded data removed]",
      "text/plain": [
       "<Figure size 518.4x331.2 with 1 Axes>"
      ]
     },
     "metadata": {
      "needs_background": "light"
     },
     "output_type": "display_data"
    }
   ],
   "source": [
    "# Plotting age distribution\n",
    "\n",
    "ax1 = patients_ages[age_col].plot.hist(bins=16, figsize=(7.2, 4.6))\n",
    "#ax1.set(xscale='log',)\n",
    "#ax1.set(xticks=[20, 30, 40, 50, 60, 70, 80, 90, 100])\n",
    "#ax1.set_xticklabels(['20', '30', '40', '50', '60', '70','80','90', '100'])\n",
    "ax1.set_title(\"Age distribution among patients\", fontsize = 16)\n",
    "ax1.set_xlabel('Age', fontsize = 15)\n",
    "ax1.set_ylabel('Frequency', fontsize = 15)\n",
    "#plt.savefig('age_distribution.png')\n",
    "plt.show"
   ]
  },
  {
   "cell_type": "code",
   "execution_count": 12,
   "id": "b73f8355",
   "metadata": {},
   "outputs": [
    {
     "data": {
      "text/plain": [
       "F    1399701\n",
       "M     922764\n",
       "Name: sex, dtype: int64"
      ]
     },
     "execution_count": 12,
     "metadata": {},
     "output_type": "execute_result"
    }
   ],
   "source": [
    "df['sex'].value_counts()"
   ]
  },
  {
   "cell_type": "code",
   "execution_count": 13,
   "id": "61cb562d",
   "metadata": {},
   "outputs": [
    {
     "data": {
      "text/plain": [
       "F    426061\n",
       "M    265584\n",
       "Name: sex, dtype: int64"
      ]
     },
     "execution_count": 13,
     "metadata": {},
     "output_type": "execute_result"
    }
   ],
   "source": [
    "# Counts for female and male for classes 1, 2 and 3\n",
    "\n",
    "df.loc[df[class_col]!= 0, 'sex'].value_counts()"
   ]
  },
  {
   "cell_type": "code",
   "execution_count": 14,
   "id": "be2a424d",
   "metadata": {},
   "outputs": [],
   "source": [
    "# classes 1 to 3, & sex distribution\n",
    "class_sex_df = df.loc[df[class_col]!= 0, [class_col, 'sex']]"
   ]
  },
  {
   "cell_type": "code",
   "execution_count": 15,
   "id": "f6c198d8",
   "metadata": {},
   "outputs": [],
   "source": [
    "class_sex_count= class_sex_df.groupby([class_col, 'sex']).size().reset_index().rename(columns={0:'counts'})"
   ]
  },
  {
   "cell_type": "code",
   "execution_count": 16,
   "id": "7f68c133",
   "metadata": {},
   "outputs": [
    {
     "data": {
      "text/html": [
       "<div>\n",
       "<style scoped>\n",
       "    .dataframe tbody tr th:only-of-type {\n",
       "        vertical-align: middle;\n",
       "    }\n",
       "\n",
       "    .dataframe tbody tr th {\n",
       "        vertical-align: top;\n",
       "    }\n",
       "\n",
       "    .dataframe thead th {\n",
       "        text-align: right;\n",
       "    }\n",
       "</style>\n",
       "<table border=\"1\" class=\"dataframe\">\n",
       "  <thead>\n",
       "    <tr style=\"text-align: right;\">\n",
       "      <th></th>\n",
       "      <th>exam_class</th>\n",
       "      <th>sex</th>\n",
       "    </tr>\n",
       "    <tr>\n",
       "      <th>id_exam</th>\n",
       "      <th></th>\n",
       "      <th></th>\n",
       "    </tr>\n",
       "  </thead>\n",
       "  <tbody>\n",
       "    <tr>\n",
       "      <th>2111069</th>\n",
       "      <td>2</td>\n",
       "      <td>F</td>\n",
       "    </tr>\n",
       "    <tr>\n",
       "      <th>2111509</th>\n",
       "      <td>2</td>\n",
       "      <td>M</td>\n",
       "    </tr>\n",
       "    <tr>\n",
       "      <th>2111357</th>\n",
       "      <td>2</td>\n",
       "      <td>F</td>\n",
       "    </tr>\n",
       "    <tr>\n",
       "      <th>2111409</th>\n",
       "      <td>2</td>\n",
       "      <td>M</td>\n",
       "    </tr>\n",
       "    <tr>\n",
       "      <th>2110479</th>\n",
       "      <td>2</td>\n",
       "      <td>M</td>\n",
       "    </tr>\n",
       "  </tbody>\n",
       "</table>\n",
       "</div>"
      ],
      "text/plain": [
       "         exam_class sex\n",
       "id_exam                \n",
       "2111069           2   F\n",
       "2111509           2   M\n",
       "2111357           2   F\n",
       "2111409           2   M\n",
       "2110479           2   M"
      ]
     },
     "execution_count": 16,
     "metadata": {},
     "output_type": "execute_result"
    }
   ],
   "source": [
    "class_sex_df.head()"
   ]
  },
  {
   "cell_type": "code",
   "execution_count": 17,
   "id": "54c8ed3b",
   "metadata": {},
   "outputs": [
    {
     "data": {
      "text/html": [
       "<div>\n",
       "<style scoped>\n",
       "    .dataframe tbody tr th:only-of-type {\n",
       "        vertical-align: middle;\n",
       "    }\n",
       "\n",
       "    .dataframe tbody tr th {\n",
       "        vertical-align: top;\n",
       "    }\n",
       "\n",
       "    .dataframe thead th {\n",
       "        text-align: right;\n",
       "    }\n",
       "</style>\n",
       "<table border=\"1\" class=\"dataframe\">\n",
       "  <thead>\n",
       "    <tr style=\"text-align: right;\">\n",
       "      <th></th>\n",
       "      <th>exam_class</th>\n",
       "      <th>sex</th>\n",
       "      <th>counts</th>\n",
       "    </tr>\n",
       "  </thead>\n",
       "  <tbody>\n",
       "    <tr>\n",
       "      <th>0</th>\n",
       "      <td>1</td>\n",
       "      <td>F</td>\n",
       "      <td>400788</td>\n",
       "    </tr>\n",
       "    <tr>\n",
       "      <th>1</th>\n",
       "      <td>1</td>\n",
       "      <td>M</td>\n",
       "      <td>236726</td>\n",
       "    </tr>\n",
       "    <tr>\n",
       "      <th>2</th>\n",
       "      <td>2</td>\n",
       "      <td>F</td>\n",
       "      <td>19206</td>\n",
       "    </tr>\n",
       "    <tr>\n",
       "      <th>3</th>\n",
       "      <td>2</td>\n",
       "      <td>M</td>\n",
       "      <td>22645</td>\n",
       "    </tr>\n",
       "    <tr>\n",
       "      <th>4</th>\n",
       "      <td>3</td>\n",
       "      <td>F</td>\n",
       "      <td>6067</td>\n",
       "    </tr>\n",
       "    <tr>\n",
       "      <th>5</th>\n",
       "      <td>3</td>\n",
       "      <td>M</td>\n",
       "      <td>6213</td>\n",
       "    </tr>\n",
       "  </tbody>\n",
       "</table>\n",
       "</div>"
      ],
      "text/plain": [
       "   exam_class sex  counts\n",
       "0           1   F  400788\n",
       "1           1   M  236726\n",
       "2           2   F   19206\n",
       "3           2   M   22645\n",
       "4           3   F    6067\n",
       "5           3   M    6213"
      ]
     },
     "execution_count": 17,
     "metadata": {},
     "output_type": "execute_result"
    }
   ],
   "source": [
    "class_sex_count"
   ]
  },
  {
   "cell_type": "code",
   "execution_count": 18,
   "id": "a0804836",
   "metadata": {},
   "outputs": [],
   "source": [
    "males_counts = tuple(class_sex_count.loc[class_sex_count['sex']=='M', 'counts'])\n",
    "females_counts = tuple(class_sex_count.loc[class_sex_count['sex']!='M', 'counts'])\n",
    "index = np.array(class_sex_count[class_col].unique())  # the x locations for the classes\n",
    "width = 0.35       # the width of the bars"
   ]
  },
  {
   "cell_type": "code",
   "execution_count": 19,
   "id": "771aa234",
   "metadata": {},
   "outputs": [
    {
     "data": {
      "image/png": "[encoded data removed]",
      "text/plain": [
       "<Figure size 518.4x576 with 1 Axes>"
      ]
     },
     "metadata": {
      "needs_background": "light"
     },
     "output_type": "display_data"
    }
   ],
   "source": [
    "fig, ax2 = plt.subplots(figsize=(7.2, 8))\n",
    "\n",
    "p1 = ax2.bar(index, males_counts, width, label='Male')\n",
    "p2 = ax2.bar(index, females_counts, width, bottom=males_counts, label='Female')\n",
    "\n",
    "#ax2.axhline(0, color='grey', linewidth=0.8)\n",
    "ax2.set_ylabel('Counts', fontsize = 14)\n",
    "ax2.set_title('Counts by class and gender', fontsize = 16)\n",
    "ax2.set_xticks(index, labels=['class 1', 'class 2', 'class 3'], fontsize = 14)\n",
    "ax2.legend()\n",
    "\n",
    "# Label with label_type 'center' instead of the default 'edge'\n",
    "ax2.bar_label(p1, label_type='center')\n",
    "#ax2.bar_label(p2, label_type='center')\n",
    "ax2.bar_label(p2)\n",
    "plt.savefig('class_n_sex.png')\n",
    "\n",
    "plt.show()"
   ]
  },
  {
   "cell_type": "code",
   "execution_count": 20,
   "id": "75ccf307",
   "metadata": {},
   "outputs": [
    {
     "data": {
      "text/plain": [
       "0    1630820\n",
       "1     637514\n",
       "2      41851\n",
       "3      12280\n",
       "Name: exam_class, dtype: int64"
      ]
     },
     "execution_count": 20,
     "metadata": {},
     "output_type": "execute_result"
    }
   ],
   "source": [
    "# Classes distribution\n",
    "\n",
    "classes = df[class_col]\n",
    "classes_count = classes.value_counts()\n",
    "classes_count"
   ]
  },
  {
   "cell_type": "code",
   "execution_count": 21,
   "id": "c68b84e8",
   "metadata": {},
   "outputs": [
    {
     "data": {
      "text/html": [
       "<div>\n",
       "<style scoped>\n",
       "    .dataframe tbody tr th:only-of-type {\n",
       "        vertical-align: middle;\n",
       "    }\n",
       "\n",
       "    .dataframe tbody tr th {\n",
       "        vertical-align: top;\n",
       "    }\n",
       "\n",
       "    .dataframe thead th {\n",
       "        text-align: right;\n",
       "    }\n",
       "</style>\n",
       "<table border=\"1\" class=\"dataframe\">\n",
       "  <thead>\n",
       "    <tr style=\"text-align: right;\">\n",
       "      <th></th>\n",
       "      <th>counts</th>\n",
       "      <th>%</th>\n",
       "    </tr>\n",
       "  </thead>\n",
       "  <tbody>\n",
       "    <tr>\n",
       "      <th>Class 0</th>\n",
       "      <td>1630820</td>\n",
       "      <td>70.22</td>\n",
       "    </tr>\n",
       "    <tr>\n",
       "      <th>Class 1</th>\n",
       "      <td>637514</td>\n",
       "      <td>27.45</td>\n",
       "    </tr>\n",
       "    <tr>\n",
       "      <th>Class 2</th>\n",
       "      <td>41851</td>\n",
       "      <td>1.80</td>\n",
       "    </tr>\n",
       "    <tr>\n",
       "      <th>Class 3</th>\n",
       "      <td>12280</td>\n",
       "      <td>0.53</td>\n",
       "    </tr>\n",
       "  </tbody>\n",
       "</table>\n",
       "</div>"
      ],
      "text/plain": [
       "          counts      %\n",
       "Class 0  1630820  70.22\n",
       "Class 1   637514  27.45\n",
       "Class 2    41851   1.80\n",
       "Class 3    12280   0.53"
      ]
     },
     "metadata": {},
     "output_type": "display_data"
    }
   ],
   "source": [
    "df_classes = pd.DataFrame(data=classes_count.values,  columns=['counts'], index=['Class 0','Class 1','Class 2','Class 3'])\n",
    "# add a percent column\n",
    "df_classes['%'] = df_classes.counts.div(df_classes.counts.sum()).mul(100).round(2)\n",
    "display(df_classes)"
   ]
  },
  {
   "cell_type": "code",
   "execution_count": 22,
   "id": "b4f82702",
   "metadata": {},
   "outputs": [
    {
     "data": {
      "image/png": "[encoded data removed]",
      "text/plain": [
       "<Figure size 720x360 with 1 Axes>"
      ]
     },
     "metadata": {
      "needs_background": "light"
     },
     "output_type": "display_data"
    }
   ],
   "source": [
    "# Plotting the classes distribution\n",
    "\n",
    "ax3 = df_classes.plot(kind='barh', y='counts', figsize=(10, 5), legend=False, width=.75)\n",
    "\n",
    "# customize the label to include the percent\n",
    "labels = [f' {v.get_width()}\\n {df_classes.iloc[i, 1]}%' for i, v in enumerate(ax3.containers[0])]\n",
    "\n",
    "# set the bar label\n",
    "ax3.bar_label(ax3.containers[0], labels=labels, label_type='edge', size=13)\n",
    "ax3.set_title('Exam classes distribution', fontsize = 16)\n",
    "ax3.set_yticks([0, 1, 2, 3], labels=['class 0', 'class 1', 'class 2', 'class 3'], fontsize = 13)\n",
    "ax3.set_xticks([0.0e6, 0.2e6, 0.4e6, 0.6e6, 0.8e6, 1.0e6, 1.2e6, 1.4e6, 1.6e6],fontsize = 13)\n",
    "\n",
    "ax3.spines['right'].set_visible(False)\n",
    "ax3.spines['top'].set_visible(False)\n",
    "#plt.savefig('classes_distr.png')\n",
    "plt.show()"
   ]
  },
  {
   "cell_type": "code",
   "execution_count": 23,
   "id": "bfd539af",
   "metadata": {},
   "outputs": [
    {
     "name": "stdout",
     "output_type": "stream",
     "text": [
      "Max time to first appearence: 376 weeks\n",
      "Max time to last exam: 385 weeks\n"
     ]
    }
   ],
   "source": [
    "print(\"Max time to first appearence:\", max(df['time_to_first_appearance']), \"weeks\")\n",
    "print(\"Max time to last exam:\", max(df['time_to_last_exam']), \"weeks\")"
   ]
  },
  {
   "cell_type": "code",
   "execution_count": 25,
   "id": "01bda3fa",
   "metadata": {},
   "outputs": [
    {
     "data": {
      "image/png": "[encoded data removed]",
      "text/plain": [
       "<Figure size 936x432 with 2 Axes>"
      ]
     },
     "metadata": {
      "needs_background": "light"
     },
     "output_type": "display_data"
    }
   ],
   "source": [
    "# Plots: Time to first appearence & Time to last exm\n",
    "import seaborn as sns\n",
    "\n",
    "# Generate plots\n",
    "fig, ax4 = plt.subplots(ncols=2, figsize=[13, 6])\n",
    "#sns.distplot(exams_info['time_to_first_appearance'], kde=False, norm_hist=False, bins=np.logspace(-1, 3, 10), ax=ax[0])\n",
    "sns.histplot(data=df['time_to_first_appearance'], kde=False,  bins=np.logspace(-1, 3, 10), ax=ax4[0]) # or seaborn.displot\n",
    "ax4[0].set(xscale='log',)\n",
    "ax4[0].set(xticks=[0.1, 1, 10, 100, 1000])\n",
    "ax4[0].set_xticklabels(['16 hours', '1 week', '3 months', '2 years', '20 years'], rotation=40,fontsize = 13)\n",
    "ax4[0].set_title('Time to event (Class 3)',fontsize = 16)\n",
    "ax4[0].set_ylabel('Count', fontsize = 13)\n",
    "ax4[0].set_xlabel('time before first appearance (Class 3)', fontsize = 14)\n",
    "#sns.distplot(exams_info['time_to_last_exam'], kde=False, norm_hist=False, bins=np.logspace(-1, 3, 10), ax=ax[1])\n",
    "sns.histplot(data=df['time_to_last_exam'], kde=False, bins=np.logspace(-1, 3, 10), ax=ax4[1]) # \n",
    "ax4[1].set(xscale='log',)\n",
    "#ax4[1].set(yscale='log',)\n",
    "ax4[1].set(xticks=[0.1, 1, 10, 100, 1000])\n",
    "ax4[1].set_xticklabels(['16 hours', '1 week', '3 months', '2 years', '20 years'], rotation=40,fontsize = 13)\n",
    "ax4[1].set_title('Censored time (Class 1)',fontsize = 16)\n",
    "ax4[1].set_ylabel('Count', fontsize = 13)\n",
    "ax4[1].set_xlabel('time before last exam (Class 1)', fontsize = 14)\n",
    "#plt.title('Time to event (Class 3) and Censored time (Class 1)',fontsize = 16)\n",
    "#plt.savefig('time_to_event.png')\n",
    "plt.show()"
   ]
  },
  {
   "cell_type": "code",
   "execution_count": null,
   "id": "925c9576",
   "metadata": {},
   "outputs": [],
   "source": []
  }
 ],
 "metadata": {
  "kernelspec": {
   "display_name": "Python 3 (ipykernel)",
   "language": "python",
   "name": "python3"
  },
  "language_info": {
   "codemirror_mode": {
    "name": "ipython",
    "version": 3
   },
   "file_extension": ".py",
   "mimetype": "text/x-python",
   "name": "python",
   "nbconvert_exporter": "python",
   "pygments_lexer": "ipython3",
   "version": "3.8.12"
  }
 },
 "nbformat": 4,
 "nbformat_minor": 5
}
